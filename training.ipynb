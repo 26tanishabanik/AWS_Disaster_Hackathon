{
 "cells": [
  {
   "cell_type": "markdown",
   "id": "636166ef",
   "metadata": {},
   "source": [
    "## Importing the required libraries"
   ]
  },
  {
   "cell_type": "code",
   "execution_count": 1,
   "id": "444532fd",
   "metadata": {},
   "outputs": [],
   "source": [
    "from matplotlib import pyplot as plt\n",
    "from skimage.transform import AffineTransform, warp\n",
    "from skimage import io, img_as_ubyte\n",
    "import random\n",
    "from scipy.ndimage import rotate\n",
    "import albumentations as A\n",
    "import glob\n",
    "import os\n",
    "from keras.metrics import MeanIoU\n",
    "import numpy as np\n",
    "import imageio\n",
    "import tensorflow as tf\n",
    "from tensorflow import keras\n",
    "from keras.regularizers import l1\n",
    "import boto3\n",
    "import shutil\n",
    "from sklearn.preprocessing import LabelEncoder\n",
    "from keras.models import Model\n",
    "from keras.layers import Input, Conv2D, MaxPooling2D, UpSampling2D, concatenate, Conv2DTranspose, BatchNormalization, Dropout, Lambda\n",
    "from sklearn.model_selection import train_test_split\n",
    "import cv2\n",
    "from tensorflow.keras.optimizers import Adam"
   ]
  },
  {
   "cell_type": "markdown",
   "id": "26f8c172",
   "metadata": {},
   "source": [
    "## Pre-processing the tiff files"
   ]
  },
  {
   "cell_type": "code",
   "execution_count": null,
   "id": "69fa0f2c",
   "metadata": {},
   "outputs": [],
   "source": [
    "images_to_generate=10000\n",
    "images_path=\"E:/Chancy/Urban_Heat/original/img/\" #path to original images\n",
    "masks_path = \"E:/Chancy/Urban_Heat/original/mask/\"\n",
    "img_augmented_path=\"E:/Chancy/Urban_Heat/aug/img/\" # path to store aumented images\n",
    "msk_augmented_path=\"E:/Chancy/Urban_Heat/aug/mask/\" # path to store aumented images\n",
    "images=[] # to store paths of images from folder\n",
    "masks=[]\n",
    "for im in os.listdir(images_path):  # read image name from folder and append its path into \"images\" array\n",
    "    images.append(os.path.join(images_path,im))\n",
    "for msk in os.listdir(masks_path):  # read image name from folder and append its path into \"images\" array\n",
    "    masks.append(os.path.join(masks_path,msk))\n",
    "aug = A.Compose([\n",
    "    A.VerticalFlip(p=0.5),\n",
    "    A.RandomRotate90(p=0.5),\n",
    "    A.HorizontalFlip(p=1),\n",
    "    A.Transpose(p=1),\n",
    "    A.GridDistortion(p=1)\n",
    "    ]\n",
    ")\n",
    "\n",
    "i=1   # variable to iterate till images_to_generate\n",
    "while i<=images_to_generate:\n",
    "    number = random.randint(0, len(images)-1)  #Pick a number to select an image & mask\n",
    "    image = images[number]\n",
    "    mask = masks[number]\n",
    "    print(image, mask)\n",
    "    image=random.choice(images) #Randomly select an image name\n",
    "    original_image = io.imread(image)\n",
    "    original_image = np.resize(original_image, (256, 256, 3))\n",
    "    original_mask = io.imread(mask)\n",
    "    original_mask = np.resize(original_mask, (256, 256, 3))\n",
    "    augmented = aug(image=original_image, mask=original_mask)\n",
    "    transformed_image = augmented['image']\n",
    "    transformed_mask = augmented['mask']\n",
    "    new_image_path= \"%s/augmented_image_%s.png\" %(img_augmented_path, i)\n",
    "    new_mask_path = \"%s/augmented_mask_%s.png\" %(msk_augmented_path, i)\n",
    "    io.imsave(new_image_path, transformed_image)\n",
    "    io.imsave(new_mask_path, transformed_mask)\n",
    "    i =i+1\n",
    "\n"
   ]
  },
  {
   "cell_type": "markdown",
   "id": "5cd0077d",
   "metadata": {},
   "source": [
    "## Downloading data from s3 bucket"
   ]
  },
  {
   "cell_type": "code",
   "execution_count": null,
   "id": "a089d615",
   "metadata": {},
   "outputs": [],
   "source": [
    "s3 = boto3.client('s3')\n",
    "s3_resource = boto3.resource(\n",
    "    service_name='s3',\n",
    "    region_name='us-east-1',\n",
    "    aws_access_key_id='',\n",
    "    aws_secret_access_key=''\n",
    ")"
   ]
  },
  {
   "cell_type": "code",
   "execution_count": null,
   "id": "095f9dfb",
   "metadata": {},
   "outputs": [],
   "source": [
    "def downloadDirectoryFroms3(bucketName, remoteDirectoryName):\n",
    "    bucket = s3_resource.Bucket(bucketName) \n",
    "    for obj in bucket.objects.filter(Prefix = remoteDirectoryName):\n",
    "        if not os.path.exists(os.path.dirname(obj.key)):\n",
    "            os.makedirs(os.path.dirname(obj.key))\n",
    "        try:\n",
    "            bucket.download_file(obj.key, obj.key) # save to same path\n",
    "        except:\n",
    "            pass"
   ]
  },
  {
   "cell_type": "code",
   "execution_count": null,
   "id": "077fc66d",
   "metadata": {},
   "outputs": [],
   "source": [
    "downloadDirectoryFroms3('aws-disaster', 'img6')\n",
    "downloadDirectoryFroms3('aws-disaster', 'mask6')"
   ]
  },
  {
   "cell_type": "markdown",
   "id": "7112e323",
   "metadata": {},
   "source": [
    "## Batching data for training"
   ]
  },
  {
   "cell_type": "code",
   "execution_count": null,
   "id": "4f1d24a5",
   "metadata": {},
   "outputs": [],
   "source": [
    "os.mkdir('images4')\n",
    "os.mkdir('masks4')\n",
    "\n",
    "src_mask = './mask6/'\n",
    "dest_mask = './masks4/'\n",
    "for files in os.listdir(src_mask):\n",
    "    try:\n",
    "        if int(files.split('.')[0].split('_')[2]) > 9000 and int(files.split('.')[0].split('_')[2]) < 10001:\n",
    "            # print(files)\n",
    "            shutil.copy(os.path.join(src_mask,files), dest_mask)\n",
    "    except:\n",
    "        pass\n",
    "\n",
    "\n",
    "src_img = './img6/'\n",
    "dest_img = './images4/'\n",
    "for files in os.listdir(src_img):\n",
    "    # print(files)\n",
    "    try:\n",
    "        if int(files.split('.')[0].split('_')[2]) > 9000 and int(files.split('.')[0].split('_')[2]) < 10001:\n",
    "            # print(files.split('.')[0])\n",
    "            shutil.copy(os.path.join(src_img,files), dest_img)\n",
    "    except:\n",
    "        pass\n"
   ]
  },
  {
   "cell_type": "markdown",
   "id": "4064953b",
   "metadata": {},
   "source": [
    "## Asserting same number of images and masks"
   ]
  },
  {
   "cell_type": "code",
   "execution_count": null,
   "id": "093fa25f",
   "metadata": {},
   "outputs": [],
   "source": [
    "im = mask = 0\n",
    "for img_path in glob.glob(os.path.join('./images4',\"*.png\")):\n",
    "    im += 1\n",
    "\n",
    "for img_path in glob.glob(os.path.join('./masks4',\"*.png\")):\n",
    "    mask += 1\n",
    "\n",
    "print(im,mask)"
   ]
  },
  {
   "cell_type": "markdown",
   "id": "37d5ea5f",
   "metadata": {},
   "source": [
    "## Converting images and masks to array"
   ]
  },
  {
   "cell_type": "code",
   "execution_count": null,
   "id": "d13d6bf2",
   "metadata": {},
   "outputs": [],
   "source": [
    "train_images = []\n",
    "# for directory_path in glob.glob('./aug-20220204T063105Z-001/aug'):\n",
    "for img_path in glob.glob(os.path.join('./images4',\"*.png\")):\n",
    "    #print(img_path)\n",
    "    img = cv2.imread(img_path, 0)\n",
    "    train_images.append(img)\n",
    "#Convert list to array for machine learning processing\n",
    "train_images = np.array(train_images)\n",
    "# print(train_images)\n",
    "\n",
    "train_masks= []\n",
    "# for directory_path in glob.glob(msk_augmented_path):\n",
    "for img_path in glob.glob(os.path.join('./masks4', \"*.png\")):\n",
    "    #print(img_path)\n",
    "    mask = cv2.imread(img_path,0)\n",
    "    train_masks.append(mask)\n",
    "#Convert list to array for machine learning processing\n",
    "train_masks = np.array(train_masks)\n",
    "\n",
    "\n",
    "np.unique(train_masks)"
   ]
  },
  {
   "cell_type": "markdown",
   "id": "a6b701a2",
   "metadata": {},
   "source": [
    "## Pre-processing before training"
   ]
  },
  {
   "cell_type": "code",
   "execution_count": null,
   "id": "8874b9fb",
   "metadata": {},
   "outputs": [],
   "source": [
    "train_images = np.expand_dims(train_images, axis=3)\n",
    "train_images = tf.keras.utils.normalize(train_images, axis=1)\n",
    "\n",
    "train_masks_input = np.expand_dims(train_masks, axis=3)"
   ]
  },
  {
   "cell_type": "markdown",
   "id": "22ffada8",
   "metadata": {},
   "source": [
    "## Training into train and validation"
   ]
  },
  {
   "cell_type": "code",
   "execution_count": null,
   "id": "eb998c11",
   "metadata": {},
   "outputs": [],
   "source": [
    "X_train, X_test, y_train, y_test  = train_test_split(train_images, train_masks_input, test_size = 0.20, random_state = 0)"
   ]
  },
  {
   "cell_type": "code",
   "execution_count": null,
   "id": "83707ebd",
   "metadata": {},
   "outputs": [],
   "source": [
    "n_classes=4\n",
    "train_masks_cat = tf.keras.utils.to_categorical(y_train, num_classes=n_classes)\n",
    "y_train_cat = train_masks_cat.reshape((y_train.shape[0], y_train.shape[1], y_train.shape[2], n_classes))\n",
    "\n",
    "\n",
    "\n",
    "test_masks_cat = tf.keras.utils.to_categorical(y_test, num_classes=n_classes)\n",
    "y_test_cat = test_masks_cat.reshape((y_test.shape[0], y_test.shape[1], y_test.shape[2], n_classes))"
   ]
  },
  {
   "cell_type": "markdown",
   "id": "08bf3165",
   "metadata": {},
   "source": [
    "## Modified U-net Model"
   ]
  },
  {
   "cell_type": "code",
   "execution_count": null,
   "id": "4d7ee490",
   "metadata": {},
   "outputs": [],
   "source": [
    "def multi_unet_model(n_classes=4, IMG_HEIGHT=256, IMG_WIDTH=256, IMG_CHANNELS=1):\n",
    "#Build the model\n",
    "    inputs = Input((IMG_HEIGHT, IMG_WIDTH, IMG_CHANNELS))\n",
    "    #s = Lambda(lambda x: x / 255)(inputs)   #No need for this if we normalize our inputs beforehand\n",
    "    s = inputs\n",
    "    #Contraction path\n",
    "    c1 = Conv2D(16, (3, 3), kernel_regularizer=l1(0.01),  kernel_initializer='he_uniform', padding='same')(s)\n",
    "    c1 = tf.keras.layers.LeakyReLU(alpha=0.1)(c1)\n",
    "    c1 = BatchNormalization()(c1)\n",
    "    c1 = Dropout(0.25)(c1)\n",
    "    c1 = Conv2D(16, (3, 3), kernel_regularizer=l1(0.01) ,kernel_initializer='he_uniform', padding='same')(c1)\n",
    "    c1 = tf.keras.layers.LeakyReLU(alpha=0.1)(c1)\n",
    "    p1 = MaxPooling2D((2, 2))(c1)\n",
    "    \n",
    "    c2 = Conv2D(32, (3, 3), kernel_regularizer=l1(0.01), kernel_initializer='he_uniform', padding='same')(p1)\n",
    "    c2 = tf.keras.layers.LeakyReLU(alpha=0.1)(c2)\n",
    "    c2 = BatchNormalization()(c2)\n",
    "    c2 = Dropout(0.25)(c2)\n",
    "    c2 = Conv2D(32, (3, 3), kernel_regularizer=l1(0.01), kernel_initializer='he_uniform', padding='same')(c2)\n",
    "    c2 = tf.keras.layers.LeakyReLU(alpha=0.1)(c2)\n",
    "    p2 = MaxPooling2D((2, 2))(c2)\n",
    "     \n",
    "    c3 = Conv2D(64, (3, 3), kernel_regularizer=l1(0.01) ,kernel_initializer='he_uniform', padding='same')(p2)\n",
    "    c3 = tf.keras.layers.LeakyReLU(alpha=0.1)(c3)\n",
    "    c3 = BatchNormalization()(c3)\n",
    "    c3 = Dropout(0.25)(c3)\n",
    "    c3 = Conv2D(64, (3, 3), kernel_regularizer=l1(0.01), kernel_initializer='he_uniform', padding='same')(c3)\n",
    "    c3 = tf.keras.layers.LeakyReLU(alpha=0.1)(c3)\n",
    "    p3 = MaxPooling2D((2, 2))(c3)\n",
    "     \n",
    "    c4 = Conv2D(128, (3, 3),kernel_regularizer=l1(0.01),  kernel_initializer='he_uniform', padding='same')(p3)\n",
    "    c4 = tf.keras.layers.LeakyReLU(alpha=0.1)(c4)\n",
    "    c4 = BatchNormalization()(c4)\n",
    "    #c4 = Dropout(0.2)(c4)\n",
    "    c4 = Conv2D(128, (3, 3),kernel_regularizer=l1(0.01),  kernel_initializer='he_uniform', padding='same')(c4)\n",
    "    c4 = tf.keras.layers.LeakyReLU(alpha=0.1)(c4)\n",
    "    p4 = MaxPooling2D(pool_size=(2, 2))(c4)\n",
    "     \n",
    "    c5 = Conv2D(256, (3, 3),kernel_regularizer=l1(0.01), kernel_initializer='he_uniform', padding='same')(p4)\n",
    "    c5 = tf.keras.layers.LeakyReLU(alpha=0.1)(c5)\n",
    "    c5 = BatchNormalization()(c5)\n",
    "    # c5 = Dropout(0.2)(c5)\n",
    "    c5 = Conv2D(256, (3, 3), kernel_regularizer=l1(0.01), kernel_initializer='he_uniform', padding='same')(c5)\n",
    "    c5 = tf.keras.layers.LeakyReLU(alpha=0.1)(c5)\n",
    "    \n",
    "    #Expansive path \n",
    "    u6 = Conv2DTranspose(128, (3 ,3), strides=(2, 2), padding='same')(c5)\n",
    "    u6 = concatenate([u6, c4])\n",
    "    c6 = Conv2D(128, (3, 3),kernel_regularizer=l1(0.01),  kernel_initializer='he_uniform', padding='same')(u6)\n",
    "    c6 = tf.keras.layers.LeakyReLU(alpha=0.1)(c6)\n",
    "    c6 = BatchNormalization()(c6)\n",
    "    #c6 = Dropout(0.2)(c6)\n",
    "    c6 = Conv2D(128, (3, 3),kernel_regularizer=l1(0.01),  kernel_initializer='he_uniform', padding='same')(c6)\n",
    "    c6 = tf.keras.layers.LeakyReLU(alpha=0.1)(c6)\n",
    "     \n",
    "    u7 = Conv2DTranspose(64, (3, 3), strides=(2, 2), padding='same')(c6)\n",
    "    u7 = concatenate([u7, c3])\n",
    "    c7 = Conv2D(64, (3, 3), kernel_regularizer=l1(0.01), kernel_initializer='he_uniform', padding='same')(u7)\n",
    "    c7 = tf.keras.layers.LeakyReLU(alpha=0.1)(c7)\n",
    "    c7 = BatchNormalization()(c7)\n",
    "    # c7 = Dropout(0.2)(c7)\n",
    "    c7 = Conv2D(64, (3, 3),kernel_regularizer=l1(0.01),  kernel_initializer='he_uniform', padding='same')(c7)\n",
    "    c7 = tf.keras.layers.LeakyReLU(alpha=0.1)(c7)\n",
    "     \n",
    "    u8 = Conv2DTranspose(32, (3, 3), strides=(2, 2), padding='same')(c7)\n",
    "    u8 = concatenate([u8, c2])\n",
    "    c8 = Conv2D(32, (3, 3),kernel_regularizer=l1(0.01),  kernel_initializer='he_uniform', padding='same')(u8)\n",
    "    c8 = tf.keras.layers.LeakyReLU(alpha=0.1)(c8)\n",
    "    c8 = BatchNormalization()(c8)\n",
    "    # c8 = Dropout(0.2)(c8)\n",
    "    c8 = Conv2D(32, (3, 3),kernel_regularizer=l1(0.01),  kernel_initializer='he_uniform', padding='same')(c8)\n",
    "    c8 = tf.keras.layers.LeakyReLU(alpha=0.1)(c8)\n",
    "     \n",
    "    u9 = Conv2DTranspose(16, (3, 3), strides=(2, 2), padding='same')(c8)\n",
    "    u9 = concatenate([u9, c1], axis=3)\n",
    "    c9 = Conv2D(16, (3, 3), kernel_regularizer=l1(0.01), kernel_initializer='he_uniform', padding='same')(u9)\n",
    "    c9 = tf.keras.layers.LeakyReLU(alpha=0.1)(c9)\n",
    "    c9 = BatchNormalization()(c9)\n",
    "    # c9 = Dropout(0.2)(c9)\n",
    "    c9 = Conv2D(16, (3, 3), kernel_regularizer=l1(0.01),  kernel_initializer='he_uniform', padding='same')(c9)\n",
    "    c9 = tf.keras.layers.LeakyReLU(alpha=0.1)(c9)\n",
    "     \n",
    "    outputs = Conv2D(n_classes, (1, 1), activation='softmax')(c9)\n",
    "     \n",
    "    model = Model(inputs=[inputs], outputs=[outputs])\n",
    "\n",
    "    \n",
    "    return model"
   ]
  },
  {
   "cell_type": "markdown",
   "id": "182026e6",
   "metadata": {},
   "source": [
    "## Compiling Model"
   ]
  },
  {
   "cell_type": "code",
   "execution_count": null,
   "id": "3e129e26",
   "metadata": {},
   "outputs": [],
   "source": [
    "IMG_HEIGHT = X_train.shape[1]\n",
    "IMG_WIDTH  = X_train.shape[2]\n",
    "IMG_CHANNELS = X_train.shape[3]\n",
    "\n",
    "def get_model():\n",
    "    return multi_unet_model(n_classes=n_classes, IMG_HEIGHT=IMG_HEIGHT, IMG_WIDTH=IMG_WIDTH, IMG_CHANNELS=IMG_CHANNELS)\n",
    "optimizer = Adam(lr=0.00001, beta_1=0.9, beta_2=0.999, epsilon=1e-08)\n",
    "model_channel_1 = get_model()\n",
    "model_channel_1.compile(optimizer=optimizer, loss='categorical_crossentropy', metrics=['accuracy'])"
   ]
  },
  {
   "cell_type": "markdown",
   "id": "b6c05c66",
   "metadata": {},
   "source": [
    "## Training"
   ]
  },
  {
   "cell_type": "code",
   "execution_count": null,
   "id": "df5e0e57",
   "metadata": {},
   "outputs": [],
   "source": [
    "history_channel_1 = model_channel_1.fit(X_train, y_train_cat, \n",
    "                    batch_size = 16, \n",
    "                    verbose=1, \n",
    "                    epochs=50, \n",
    "                    validation_data=(X_test, y_test_cat), \n",
    "                    # class_weight=class_weights,\n",
    "                    shuffle=False)"
   ]
  },
  {
   "cell_type": "markdown",
   "id": "70a0b55e",
   "metadata": {},
   "source": [
    "## Saving model"
   ]
  },
  {
   "cell_type": "code",
   "execution_count": null,
   "id": "9f9f50f8",
   "metadata": {},
   "outputs": [],
   "source": [
    "model_channel_1.save('channel1_150_epochs.h5')"
   ]
  },
  {
   "cell_type": "markdown",
   "id": "a5e59fe1",
   "metadata": {},
   "source": [
    "## Loading model"
   ]
  },
  {
   "cell_type": "code",
   "execution_count": null,
   "id": "9367b919",
   "metadata": {},
   "outputs": [],
   "source": [
    "loaded_model = tf.keras.models.load_model(\"channel1_150_epochs.h5\")\n",
    "_, acc =  loaded_model.evaluate(X_test, y_test_cat)\n",
    "print(\"Accuracy is = \", (acc * 100.0), \"%\")"
   ]
  },
  {
   "cell_type": "markdown",
   "id": "2997f26f",
   "metadata": {},
   "source": [
    "## Evaluation"
   ]
  },
  {
   "cell_type": "code",
   "execution_count": null,
   "id": "42a0e5bc",
   "metadata": {},
   "outputs": [],
   "source": [
    "y_pred= loaded_model.predict(X_test)\n",
    "y_pred_argmax=np.argmax(y_pred, axis=3)\n",
    "\n",
    "\n",
    "y_pred_argmax\n"
   ]
  },
  {
   "cell_type": "code",
   "execution_count": null,
   "id": "67d76e83",
   "metadata": {},
   "outputs": [],
   "source": [
    "n_classes = 4\n",
    "IOU_keras = MeanIoU(num_classes=n_classes)  \n",
    "IOU_keras.update_state(y_test[:,:,:,0], y_pred_argmax)\n",
    "print(\"Mean IoU =\", IOU_keras.result().numpy())\n",
    "\n",
    "\n",
    "\n",
    "values = np.array(IOU_keras.get_weights()).reshape(n_classes, n_classes)\n",
    "print(values)\n",
    "class1_IoU = values[0,0]/(values[0,0] + values[0,1] + values[0,2] + values[0,3] + values[1,0]+ values[2,0]+ values[3,0])\n",
    "class2_IoU = values[1,1]/(values[1,1] + values[1,0] + values[1,2] + values[1,3] + values[0,1]+ values[2,1]+ values[3,1])\n",
    "class3_IoU = values[2,2]/(values[2,2] + values[2,0] + values[2,1] + values[2,3] + values[0,2]+ values[1,2]+ values[3,2])\n",
    "class4_IoU = values[3,3]/(values[3,3] + values[3,0] + values[3,1] + values[3,2] + values[0,3]+ values[1,3]+ values[2,3])\n",
    "\n",
    "print(\"IoU for class1 is: \", class1_IoU)\n",
    "print(\"IoU for class2 is: \", class2_IoU)\n",
    "print(\"IoU for class3 is: \", class3_IoU)\n",
    "print(\"IoU for class4 is: \", class4_IoU)\n",
    "\n",
    "plt.imshow(train_images[0, :,:,0], cmap='gray')\n",
    "plt.imshow(train_masks[0], cmap='gray')\n"
   ]
  },
  {
   "cell_type": "markdown",
   "id": "edd3fe12",
   "metadata": {},
   "source": [
    "## Plotting the results"
   ]
  },
  {
   "cell_type": "code",
   "execution_count": null,
   "id": "8980ca41",
   "metadata": {},
   "outputs": [],
   "source": [
    "\n",
    "test_img_number = random.randint(0, len(X_test))\n",
    "test_img = X_test[test_img_number]\n",
    "ground_truth=y_test[test_img_number]\n",
    "test_img_norm=test_img[:,:,0][:,:,None]\n",
    "test_img_input=np.expand_dims(test_img_norm, 0)\n",
    "prediction = (loaded_model.predict(test_img_input))\n",
    "predicted_img=np.argmax(prediction, axis=3)[0,:,:]\n",
    "\n",
    "\n",
    "plt.figure(figsize=(12, 8))\n",
    "plt.subplot(231)\n",
    "plt.title('Testing Image')\n",
    "plt.imshow(test_img[:,:,0], cmap='gray')\n",
    "plt.subplot(232)\n",
    "plt.title('Testing Label')\n",
    "plt.imshow(ground_truth[:,:,0], cmap='gray')\n",
    "plt.subplot(233)\n",
    "plt.title('Prediction on test image')\n",
    "plt.imshow(predicted_img, cmap='gray')\n",
    "plt.show()"
   ]
  },
  {
   "cell_type": "markdown",
   "id": "aa464e8e",
   "metadata": {},
   "source": [
    "## Predictions"
   ]
  },
  {
   "cell_type": "code",
   "execution_count": null,
   "id": "e0b92278",
   "metadata": {},
   "outputs": [],
   "source": [
    "\n",
    "\n",
    "def prediction(image, patch_size):\n",
    "    segm_img = np.zeros(image.shape[:2])  #Array with zeros to be filled with segmented values\n",
    "    patch_num=1\n",
    "    for i in range(0, image.shape[0]):   #Steps of 256\n",
    "        for j in range(0, image.shape[1]):  #Steps of 256\n",
    "            #print(i, j)\n",
    "            single_patch = image[i:i+patch_size, j:j+patch_size]\n",
    "            single_patch_norm = np.expand_dims(tf.keras.utils.normalize(np.array(single_patch), axis=1),2)\n",
    "            single_patch_shape = single_patch_norm.shape[:2]\n",
    "            single_patch_input = np.expand_dims(single_patch_norm, 0)\n",
    "            single_patch_prediction = (model.predict(single_patch_input)[0,:,:,0] > 0.5).astype(np.uint8)\n",
    "            segm_img[i:i+single_patch_shape[0], j:j+single_patch_shape[1]] += cv2.resize(single_patch_prediction, single_patch_shape[::-1])\n",
    "          \n",
    "            print(\"Finished processing patch number \", patch_num, \" at position \", i,j)\n",
    "            patch_num+=1\n",
    "    return segm_img"
   ]
  },
  {
   "cell_type": "code",
   "execution_count": null,
   "id": "31b8c173",
   "metadata": {},
   "outputs": [],
   "source": [
    "large_image = cv2.imread('satellite-venice-italy_1.jpg', 0)\n",
    "\n",
    "print(large_image.shape)\n",
    "\n",
    "prediction(large_image, 256)"
   ]
  },
  {
   "cell_type": "code",
   "execution_count": null,
   "id": "e27aec10",
   "metadata": {},
   "outputs": [],
   "source": []
  },
  {
   "cell_type": "code",
   "execution_count": null,
   "id": "6a09712f",
   "metadata": {},
   "outputs": [],
   "source": []
  },
  {
   "cell_type": "code",
   "execution_count": null,
   "id": "adfb405a",
   "metadata": {},
   "outputs": [],
   "source": []
  },
  {
   "cell_type": "code",
   "execution_count": null,
   "id": "04428e59",
   "metadata": {},
   "outputs": [],
   "source": []
  },
  {
   "cell_type": "code",
   "execution_count": null,
   "id": "2819ee48",
   "metadata": {},
   "outputs": [],
   "source": []
  },
  {
   "cell_type": "code",
   "execution_count": null,
   "id": "77cbab0c",
   "metadata": {},
   "outputs": [],
   "source": []
  },
  {
   "cell_type": "code",
   "execution_count": null,
   "id": "d872c7bd",
   "metadata": {},
   "outputs": [],
   "source": []
  },
  {
   "cell_type": "code",
   "execution_count": null,
   "id": "f6bcf0d8",
   "metadata": {},
   "outputs": [],
   "source": []
  },
  {
   "cell_type": "code",
   "execution_count": null,
   "id": "9080bf4a",
   "metadata": {},
   "outputs": [],
   "source": []
  },
  {
   "cell_type": "code",
   "execution_count": null,
   "id": "7cd8176b",
   "metadata": {},
   "outputs": [],
   "source": []
  }
 ],
 "metadata": {
  "kernelspec": {
   "display_name": "Python 3 (ipykernel)",
   "language": "python",
   "name": "python3"
  },
  "language_info": {
   "codemirror_mode": {
    "name": "ipython",
    "version": 3
   },
   "file_extension": ".py",
   "mimetype": "text/x-python",
   "name": "python",
   "nbconvert_exporter": "python",
   "pygments_lexer": "ipython3",
   "version": "3.9.7"
  }
 },
 "nbformat": 4,
 "nbformat_minor": 5
}
